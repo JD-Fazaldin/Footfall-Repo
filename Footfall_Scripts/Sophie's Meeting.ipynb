{
 "cells": [
  {
   "cell_type": "code",
   "execution_count": 14,
   "metadata": {},
   "outputs": [
    {
     "data": {
      "text/plain": [
       "'C:\\\\Users\\\\jf79\\\\Downloads'"
      ]
     },
     "execution_count": 14,
     "metadata": {},
     "output_type": "execute_result"
    }
   ],
   "source": [
    "os.getcwd()"
   ]
  },
  {
   "cell_type": "code",
   "execution_count": null,
   "metadata": {},
   "outputs": [],
   "source": [
    "import pandas as pd\n",
    "import os\n",
    "\n",
    "cwd = r\"C:\\Users\\jf79\\Downloads\"\n",
    "os.chdir(cwd)"
   ]
  },
  {
   "cell_type": "code",
   "execution_count": null,
   "metadata": {},
   "outputs": [],
   "source": [
    "\n",
    "values_to_keep = [\n",
    "    \"Sands End\",\n",
    "    \"Fulham Town\",\n",
    "    \"Parsons Green & Sandford\",\n",
    "    \"Palace & Hurlingham\",\n",
    "    \"Munster\",\n",
    "    \"Walham Green\",\n",
    "    \"Lillie\",\n",
    "    \"Fulham Reach\",\n",
    "    \"West Kensington\",\n",
    "    \"Hammersmith Broadway\",\n",
    "    \"Avonmore\",\n",
    "    \"Ravenscourt\",\n",
    "    \"Brook Green\",\n",
    "    \"Grove\",\n",
    "    \"Addison\",\n",
    "    \"Wendell Park\",\n",
    "    \"Coningham\",\n",
    "    \"Shepherd's Bush Green\",\n",
    "    \"Wormholt\",\n",
    "    \"White City\",\n",
    "    \"College Park & Old Oak\"\n",
    "]\n",
    "\n",
    "\n",
    "check = pd.read_csv('bespoke_3hourly_counts_2022-05-01_2025-02-09.csv')\n",
    "check\n",
    "check = check[check['name'].isin(values_to_keep)]\n",
    "mf.validate_data(check)"
   ]
  }
 ],
 "metadata": {
  "kernelspec": {
   "display_name": "Python 3",
   "language": "python",
   "name": "python3"
  },
  "language_info": {
   "codemirror_mode": {
    "name": "ipython",
    "version": 3
   },
   "file_extension": ".py",
   "mimetype": "text/x-python",
   "name": "python",
   "nbconvert_exporter": "python",
   "pygments_lexer": "ipython3",
   "version": "3.13.2"
  }
 },
 "nbformat": 4,
 "nbformat_minor": 2
}
